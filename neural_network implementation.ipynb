{
 "cells": [
  {
   "cell_type": "code",
   "execution_count": 1,
   "metadata": {},
   "outputs": [],
   "source": [
    "import pandas as pd\n",
    "import numpy as np\n",
    "import matplotlib.pyplot as plt\n",
    "import tqdm\n",
    "import copy\n",
    "\n",
    "import torch\n",
    "import torch.nn as nn\n",
    "import torch.optim as optim\n",
    "\n",
    "from sklearn.model_selection import train_test_split, KFold, StratifiedKFold\n",
    "from sklearn.preprocessing import OneHotEncoder\n",
    "from sklearn.metrics import confusion_matrix\n",
    "from sklearn.metrics import ConfusionMatrixDisplay\n",
    "from imblearn.under_sampling import RandomUnderSampler"
   ]
  },
  {
   "cell_type": "code",
   "execution_count": 2,
   "metadata": {},
   "outputs": [
    {
     "data": {
      "text/html": [
       "<div>\n",
       "<style scoped>\n",
       "    .dataframe tbody tr th:only-of-type {\n",
       "        vertical-align: middle;\n",
       "    }\n",
       "\n",
       "    .dataframe tbody tr th {\n",
       "        vertical-align: top;\n",
       "    }\n",
       "\n",
       "    .dataframe thead th {\n",
       "        text-align: right;\n",
       "    }\n",
       "</style>\n",
       "<table border=\"1\" class=\"dataframe\">\n",
       "  <thead>\n",
       "    <tr style=\"text-align: right;\">\n",
       "      <th></th>\n",
       "      <th>user_id</th>\n",
       "      <th>name</th>\n",
       "      <th>time</th>\n",
       "      <th>rating</th>\n",
       "      <th>text</th>\n",
       "      <th>gmap_id</th>\n",
       "      <th>vector</th>\n",
       "    </tr>\n",
       "  </thead>\n",
       "  <tbody>\n",
       "    <tr>\n",
       "      <th>0</th>\n",
       "      <td>108341711662008461816</td>\n",
       "      <td>Rod Powell</td>\n",
       "      <td>1580509229183</td>\n",
       "      <td>5</td>\n",
       "      <td>Great service. Nice folks. Very helpful.</td>\n",
       "      <td>0x88626b6a29df9fb1:0x868c85d23dc91564</td>\n",
       "      <td>[0.0068788542, 0.029086296, -0.011112881, 0.00...</td>\n",
       "    </tr>\n",
       "    <tr>\n",
       "      <th>1</th>\n",
       "      <td>100886664024661856987</td>\n",
       "      <td>zach smithson</td>\n",
       "      <td>1489608374532</td>\n",
       "      <td>5</td>\n",
       "      <td>Amazing how much cheaper their hearing aids ar...</td>\n",
       "      <td>0x88626b6a29df9fb1:0x868c85d23dc91564</td>\n",
       "      <td>[-0.05165099, 0.008153723, -0.04912399, 0.0030...</td>\n",
       "    </tr>\n",
       "    <tr>\n",
       "      <th>2</th>\n",
       "      <td>104116808865576923879</td>\n",
       "      <td>George “Stovie” Moore</td>\n",
       "      <td>1623169525640</td>\n",
       "      <td>1</td>\n",
       "      <td>I find Hoover, Alabama Costco’s tire service t...</td>\n",
       "      <td>0x888922182c25426d:0xabf1b10efa159b19</td>\n",
       "      <td>[-0.014003422, 0.008204368, 0.011449834, 0.019...</td>\n",
       "    </tr>\n",
       "    <tr>\n",
       "      <th>3</th>\n",
       "      <td>113636820761208623071</td>\n",
       "      <td>Erica Disbrow</td>\n",
       "      <td>1613357729329</td>\n",
       "      <td>5</td>\n",
       "      <td>Lambert was so nice, professional, and caring!...</td>\n",
       "      <td>0x888922182c25426d:0xabf1b10efa159b19</td>\n",
       "      <td>[-0.010003155, 0.01936056, -0.009762309, 0.020...</td>\n",
       "    </tr>\n",
       "    <tr>\n",
       "      <th>4</th>\n",
       "      <td>101232786196219574483</td>\n",
       "      <td>Roy Martin</td>\n",
       "      <td>1613138521284</td>\n",
       "      <td>5</td>\n",
       "      <td>I needed new tires and Costco's price was $400...</td>\n",
       "      <td>0x888922182c25426d:0xabf1b10efa159b19</td>\n",
       "      <td>[-0.043057095, 0.019696508, 0.003782874, 0.008...</td>\n",
       "    </tr>\n",
       "    <tr>\n",
       "      <th>...</th>\n",
       "      <td>...</td>\n",
       "      <td>...</td>\n",
       "      <td>...</td>\n",
       "      <td>...</td>\n",
       "      <td>...</td>\n",
       "      <td>...</td>\n",
       "      <td>...</td>\n",
       "    </tr>\n",
       "    <tr>\n",
       "      <th>866537</th>\n",
       "      <td>108851483128030774999</td>\n",
       "      <td>Odysseas</td>\n",
       "      <td>1458534609705</td>\n",
       "      <td>5</td>\n",
       "      <td>It's Costco.</td>\n",
       "      <td>0x8807a8cdc249ad79:0x3fdbf3ca7f0a43bf</td>\n",
       "      <td>[-0.03667649, -0.01456362, -0.01608518, 0.0076...</td>\n",
       "    </tr>\n",
       "    <tr>\n",
       "      <th>866538</th>\n",
       "      <td>105468512214130057994</td>\n",
       "      <td>Chuck Anderson</td>\n",
       "      <td>1431844304443</td>\n",
       "      <td>5</td>\n",
       "      <td>Outstanding</td>\n",
       "      <td>0x8807a8cdc249ad79:0x3fdbf3ca7f0a43bf</td>\n",
       "      <td>[0.008467636, -0.014427097, -0.027180135, 0.00...</td>\n",
       "    </tr>\n",
       "    <tr>\n",
       "      <th>866539</th>\n",
       "      <td>101071427934910005277</td>\n",
       "      <td>o Abdoko</td>\n",
       "      <td>1417168632053</td>\n",
       "      <td>5</td>\n",
       "      <td>nice place))</td>\n",
       "      <td>0x8807a8cdc249ad79:0x3fdbf3ca7f0a43bf</td>\n",
       "      <td>[-0.034930643, 0.015595584, -0.0100806365, 0.0...</td>\n",
       "    </tr>\n",
       "    <tr>\n",
       "      <th>866540</th>\n",
       "      <td>100180472161950539260</td>\n",
       "      <td>Bill Brasky</td>\n",
       "      <td>1351948282842</td>\n",
       "      <td>5</td>\n",
       "      <td>The actually pay the employees unlike Sams.</td>\n",
       "      <td>0x8807a8cdc249ad79:0x3fdbf3ca7f0a43bf</td>\n",
       "      <td>[-0.0036253948, 0.0067303316, -0.025239518, -0...</td>\n",
       "    </tr>\n",
       "    <tr>\n",
       "      <th>866541</th>\n",
       "      <td>113490359479950675390</td>\n",
       "      <td>Greg Holz</td>\n",
       "      <td>1322004111144</td>\n",
       "      <td>5</td>\n",
       "      <td>It's Costco what's not to like?</td>\n",
       "      <td>0x8807a8cdc249ad79:0x3fdbf3ca7f0a43bf</td>\n",
       "      <td>[-0.029241083, 0.009503456, -0.0032616367, 0.0...</td>\n",
       "    </tr>\n",
       "  </tbody>\n",
       "</table>\n",
       "<p>792021 rows × 7 columns</p>\n",
       "</div>"
      ],
      "text/plain": [
       "                      user_id                   name           time  rating  \\\n",
       "0       108341711662008461816             Rod Powell  1580509229183       5   \n",
       "1       100886664024661856987          zach smithson  1489608374532       5   \n",
       "2       104116808865576923879  George “Stovie” Moore  1623169525640       1   \n",
       "3       113636820761208623071          Erica Disbrow  1613357729329       5   \n",
       "4       101232786196219574483             Roy Martin  1613138521284       5   \n",
       "...                       ...                    ...            ...     ...   \n",
       "866537  108851483128030774999               Odysseas  1458534609705       5   \n",
       "866538  105468512214130057994         Chuck Anderson  1431844304443       5   \n",
       "866539  101071427934910005277               o Abdoko  1417168632053       5   \n",
       "866540  100180472161950539260            Bill Brasky  1351948282842       5   \n",
       "866541  113490359479950675390              Greg Holz  1322004111144       5   \n",
       "\n",
       "                                                     text  \\\n",
       "0                Great service. Nice folks. Very helpful.   \n",
       "1       Amazing how much cheaper their hearing aids ar...   \n",
       "2       I find Hoover, Alabama Costco’s tire service t...   \n",
       "3       Lambert was so nice, professional, and caring!...   \n",
       "4       I needed new tires and Costco's price was $400...   \n",
       "...                                                   ...   \n",
       "866537                                       It's Costco.   \n",
       "866538                                        Outstanding   \n",
       "866539                                       nice place))   \n",
       "866540        The actually pay the employees unlike Sams.   \n",
       "866541                    It's Costco what's not to like?   \n",
       "\n",
       "                                      gmap_id  \\\n",
       "0       0x88626b6a29df9fb1:0x868c85d23dc91564   \n",
       "1       0x88626b6a29df9fb1:0x868c85d23dc91564   \n",
       "2       0x888922182c25426d:0xabf1b10efa159b19   \n",
       "3       0x888922182c25426d:0xabf1b10efa159b19   \n",
       "4       0x888922182c25426d:0xabf1b10efa159b19   \n",
       "...                                       ...   \n",
       "866537  0x8807a8cdc249ad79:0x3fdbf3ca7f0a43bf   \n",
       "866538  0x8807a8cdc249ad79:0x3fdbf3ca7f0a43bf   \n",
       "866539  0x8807a8cdc249ad79:0x3fdbf3ca7f0a43bf   \n",
       "866540  0x8807a8cdc249ad79:0x3fdbf3ca7f0a43bf   \n",
       "866541  0x8807a8cdc249ad79:0x3fdbf3ca7f0a43bf   \n",
       "\n",
       "                                                   vector  \n",
       "0       [0.0068788542, 0.029086296, -0.011112881, 0.00...  \n",
       "1       [-0.05165099, 0.008153723, -0.04912399, 0.0030...  \n",
       "2       [-0.014003422, 0.008204368, 0.011449834, 0.019...  \n",
       "3       [-0.010003155, 0.01936056, -0.009762309, 0.020...  \n",
       "4       [-0.043057095, 0.019696508, 0.003782874, 0.008...  \n",
       "...                                                   ...  \n",
       "866537  [-0.03667649, -0.01456362, -0.01608518, 0.0076...  \n",
       "866538  [0.008467636, -0.014427097, -0.027180135, 0.00...  \n",
       "866539  [-0.034930643, 0.015595584, -0.0100806365, 0.0...  \n",
       "866540  [-0.0036253948, 0.0067303316, -0.025239518, -0...  \n",
       "866541  [-0.029241083, 0.009503456, -0.0032616367, 0.0...  \n",
       "\n",
       "[792021 rows x 7 columns]"
      ]
     },
     "execution_count": 2,
     "metadata": {},
     "output_type": "execute_result"
    }
   ],
   "source": [
    "df = pd.read_parquet(\"costco_2021_reviews_filtered_vectorized_master_en_32_no_duplicates.parquet\")\n",
    "df"
   ]
  },
  {
   "cell_type": "code",
   "execution_count": 3,
   "metadata": {},
   "outputs": [],
   "source": [
    "df = df.reset_index().drop(columns = 'index')"
   ]
  },
  {
   "cell_type": "code",
   "execution_count": 4,
   "metadata": {},
   "outputs": [
    {
     "data": {
      "text/html": [
       "<div>\n",
       "<style scoped>\n",
       "    .dataframe tbody tr th:only-of-type {\n",
       "        vertical-align: middle;\n",
       "    }\n",
       "\n",
       "    .dataframe tbody tr th {\n",
       "        vertical-align: top;\n",
       "    }\n",
       "\n",
       "    .dataframe thead th {\n",
       "        text-align: right;\n",
       "    }\n",
       "</style>\n",
       "<table border=\"1\" class=\"dataframe\">\n",
       "  <thead>\n",
       "    <tr style=\"text-align: right;\">\n",
       "      <th></th>\n",
       "      <th>user_id</th>\n",
       "      <th>name</th>\n",
       "      <th>time</th>\n",
       "      <th>rating</th>\n",
       "      <th>text</th>\n",
       "      <th>gmap_id</th>\n",
       "      <th>vector</th>\n",
       "    </tr>\n",
       "  </thead>\n",
       "  <tbody>\n",
       "    <tr>\n",
       "      <th>0</th>\n",
       "      <td>108341711662008461816</td>\n",
       "      <td>Rod Powell</td>\n",
       "      <td>1580509229183</td>\n",
       "      <td>5</td>\n",
       "      <td>Great service. Nice folks. Very helpful.</td>\n",
       "      <td>0x88626b6a29df9fb1:0x868c85d23dc91564</td>\n",
       "      <td>[0.0068788542, 0.029086296, -0.011112881, 0.00...</td>\n",
       "    </tr>\n",
       "    <tr>\n",
       "      <th>1</th>\n",
       "      <td>100886664024661856987</td>\n",
       "      <td>zach smithson</td>\n",
       "      <td>1489608374532</td>\n",
       "      <td>5</td>\n",
       "      <td>Amazing how much cheaper their hearing aids ar...</td>\n",
       "      <td>0x88626b6a29df9fb1:0x868c85d23dc91564</td>\n",
       "      <td>[-0.05165099, 0.008153723, -0.04912399, 0.0030...</td>\n",
       "    </tr>\n",
       "    <tr>\n",
       "      <th>2</th>\n",
       "      <td>104116808865576923879</td>\n",
       "      <td>George “Stovie” Moore</td>\n",
       "      <td>1623169525640</td>\n",
       "      <td>1</td>\n",
       "      <td>I find Hoover, Alabama Costco’s tire service t...</td>\n",
       "      <td>0x888922182c25426d:0xabf1b10efa159b19</td>\n",
       "      <td>[-0.014003422, 0.008204368, 0.011449834, 0.019...</td>\n",
       "    </tr>\n",
       "    <tr>\n",
       "      <th>3</th>\n",
       "      <td>113636820761208623071</td>\n",
       "      <td>Erica Disbrow</td>\n",
       "      <td>1613357729329</td>\n",
       "      <td>5</td>\n",
       "      <td>Lambert was so nice, professional, and caring!...</td>\n",
       "      <td>0x888922182c25426d:0xabf1b10efa159b19</td>\n",
       "      <td>[-0.010003155, 0.01936056, -0.009762309, 0.020...</td>\n",
       "    </tr>\n",
       "    <tr>\n",
       "      <th>4</th>\n",
       "      <td>101232786196219574483</td>\n",
       "      <td>Roy Martin</td>\n",
       "      <td>1613138521284</td>\n",
       "      <td>5</td>\n",
       "      <td>I needed new tires and Costco's price was $400...</td>\n",
       "      <td>0x888922182c25426d:0xabf1b10efa159b19</td>\n",
       "      <td>[-0.043057095, 0.019696508, 0.003782874, 0.008...</td>\n",
       "    </tr>\n",
       "    <tr>\n",
       "      <th>...</th>\n",
       "      <td>...</td>\n",
       "      <td>...</td>\n",
       "      <td>...</td>\n",
       "      <td>...</td>\n",
       "      <td>...</td>\n",
       "      <td>...</td>\n",
       "      <td>...</td>\n",
       "    </tr>\n",
       "    <tr>\n",
       "      <th>792016</th>\n",
       "      <td>108851483128030774999</td>\n",
       "      <td>Odysseas</td>\n",
       "      <td>1458534609705</td>\n",
       "      <td>5</td>\n",
       "      <td>It's Costco.</td>\n",
       "      <td>0x8807a8cdc249ad79:0x3fdbf3ca7f0a43bf</td>\n",
       "      <td>[-0.03667649, -0.01456362, -0.01608518, 0.0076...</td>\n",
       "    </tr>\n",
       "    <tr>\n",
       "      <th>792017</th>\n",
       "      <td>105468512214130057994</td>\n",
       "      <td>Chuck Anderson</td>\n",
       "      <td>1431844304443</td>\n",
       "      <td>5</td>\n",
       "      <td>Outstanding</td>\n",
       "      <td>0x8807a8cdc249ad79:0x3fdbf3ca7f0a43bf</td>\n",
       "      <td>[0.008467636, -0.014427097, -0.027180135, 0.00...</td>\n",
       "    </tr>\n",
       "    <tr>\n",
       "      <th>792018</th>\n",
       "      <td>101071427934910005277</td>\n",
       "      <td>o Abdoko</td>\n",
       "      <td>1417168632053</td>\n",
       "      <td>5</td>\n",
       "      <td>nice place))</td>\n",
       "      <td>0x8807a8cdc249ad79:0x3fdbf3ca7f0a43bf</td>\n",
       "      <td>[-0.034930643, 0.015595584, -0.0100806365, 0.0...</td>\n",
       "    </tr>\n",
       "    <tr>\n",
       "      <th>792019</th>\n",
       "      <td>100180472161950539260</td>\n",
       "      <td>Bill Brasky</td>\n",
       "      <td>1351948282842</td>\n",
       "      <td>5</td>\n",
       "      <td>The actually pay the employees unlike Sams.</td>\n",
       "      <td>0x8807a8cdc249ad79:0x3fdbf3ca7f0a43bf</td>\n",
       "      <td>[-0.0036253948, 0.0067303316, -0.025239518, -0...</td>\n",
       "    </tr>\n",
       "    <tr>\n",
       "      <th>792020</th>\n",
       "      <td>113490359479950675390</td>\n",
       "      <td>Greg Holz</td>\n",
       "      <td>1322004111144</td>\n",
       "      <td>5</td>\n",
       "      <td>It's Costco what's not to like?</td>\n",
       "      <td>0x8807a8cdc249ad79:0x3fdbf3ca7f0a43bf</td>\n",
       "      <td>[-0.029241083, 0.009503456, -0.0032616367, 0.0...</td>\n",
       "    </tr>\n",
       "  </tbody>\n",
       "</table>\n",
       "<p>792021 rows × 7 columns</p>\n",
       "</div>"
      ],
      "text/plain": [
       "                      user_id                   name           time  rating  \\\n",
       "0       108341711662008461816             Rod Powell  1580509229183       5   \n",
       "1       100886664024661856987          zach smithson  1489608374532       5   \n",
       "2       104116808865576923879  George “Stovie” Moore  1623169525640       1   \n",
       "3       113636820761208623071          Erica Disbrow  1613357729329       5   \n",
       "4       101232786196219574483             Roy Martin  1613138521284       5   \n",
       "...                       ...                    ...            ...     ...   \n",
       "792016  108851483128030774999               Odysseas  1458534609705       5   \n",
       "792017  105468512214130057994         Chuck Anderson  1431844304443       5   \n",
       "792018  101071427934910005277               o Abdoko  1417168632053       5   \n",
       "792019  100180472161950539260            Bill Brasky  1351948282842       5   \n",
       "792020  113490359479950675390              Greg Holz  1322004111144       5   \n",
       "\n",
       "                                                     text  \\\n",
       "0                Great service. Nice folks. Very helpful.   \n",
       "1       Amazing how much cheaper their hearing aids ar...   \n",
       "2       I find Hoover, Alabama Costco’s tire service t...   \n",
       "3       Lambert was so nice, professional, and caring!...   \n",
       "4       I needed new tires and Costco's price was $400...   \n",
       "...                                                   ...   \n",
       "792016                                       It's Costco.   \n",
       "792017                                        Outstanding   \n",
       "792018                                       nice place))   \n",
       "792019        The actually pay the employees unlike Sams.   \n",
       "792020                    It's Costco what's not to like?   \n",
       "\n",
       "                                      gmap_id  \\\n",
       "0       0x88626b6a29df9fb1:0x868c85d23dc91564   \n",
       "1       0x88626b6a29df9fb1:0x868c85d23dc91564   \n",
       "2       0x888922182c25426d:0xabf1b10efa159b19   \n",
       "3       0x888922182c25426d:0xabf1b10efa159b19   \n",
       "4       0x888922182c25426d:0xabf1b10efa159b19   \n",
       "...                                       ...   \n",
       "792016  0x8807a8cdc249ad79:0x3fdbf3ca7f0a43bf   \n",
       "792017  0x8807a8cdc249ad79:0x3fdbf3ca7f0a43bf   \n",
       "792018  0x8807a8cdc249ad79:0x3fdbf3ca7f0a43bf   \n",
       "792019  0x8807a8cdc249ad79:0x3fdbf3ca7f0a43bf   \n",
       "792020  0x8807a8cdc249ad79:0x3fdbf3ca7f0a43bf   \n",
       "\n",
       "                                                   vector  \n",
       "0       [0.0068788542, 0.029086296, -0.011112881, 0.00...  \n",
       "1       [-0.05165099, 0.008153723, -0.04912399, 0.0030...  \n",
       "2       [-0.014003422, 0.008204368, 0.011449834, 0.019...  \n",
       "3       [-0.010003155, 0.01936056, -0.009762309, 0.020...  \n",
       "4       [-0.043057095, 0.019696508, 0.003782874, 0.008...  \n",
       "...                                                   ...  \n",
       "792016  [-0.03667649, -0.01456362, -0.01608518, 0.0076...  \n",
       "792017  [0.008467636, -0.014427097, -0.027180135, 0.00...  \n",
       "792018  [-0.034930643, 0.015595584, -0.0100806365, 0.0...  \n",
       "792019  [-0.0036253948, 0.0067303316, -0.025239518, -0...  \n",
       "792020  [-0.029241083, 0.009503456, -0.0032616367, 0.0...  \n",
       "\n",
       "[792021 rows x 7 columns]"
      ]
     },
     "execution_count": 4,
     "metadata": {},
     "output_type": "execute_result"
    }
   ],
   "source": [
    "df"
   ]
  },
  {
   "cell_type": "code",
   "execution_count": 5,
   "metadata": {},
   "outputs": [],
   "source": [
    "X = df['vector']\n",
    "y = df['rating']"
   ]
  },
  {
   "cell_type": "code",
   "execution_count": 6,
   "metadata": {},
   "outputs": [
    {
     "data": {
      "text/plain": [
       "(792021, 1)"
      ]
     },
     "execution_count": 6,
     "metadata": {},
     "output_type": "execute_result"
    }
   ],
   "source": [
    "y = y.values.reshape(-1,1)\n",
    "y.shape"
   ]
  },
  {
   "cell_type": "code",
   "execution_count": 7,
   "metadata": {},
   "outputs": [],
   "source": [
    "X_train, X_val, y_train, y_val = train_test_split(X, y, stratify=y, test_size = 0.2, random_state=123)\n",
    "\n",
    "# splitting train set and validation set\n",
    "# then we split it train set into 11-folds to build models"
   ]
  },
  {
   "cell_type": "code",
   "execution_count": 8,
   "metadata": {},
   "outputs": [],
   "source": [
    "ohe_y_train = OneHotEncoder(handle_unknown='ignore', sparse_output=False).fit(y_train)\n",
    "y_train_ohe = ohe_y_train.transform(y_train)\n",
    "\n",
    "ohe_y_val = OneHotEncoder(handle_unknown='ignore', sparse_output=False).fit(y_val)\n",
    "y_val_ohe = ohe_y_val.transform(y_val)"
   ]
  },
  {
   "cell_type": "code",
   "execution_count": 9,
   "metadata": {},
   "outputs": [],
   "source": [
    "kfold = StratifiedKFold(n_splits=11,\n",
    "                        shuffle=True,\n",
    "                        random_state=123)"
   ]
  },
  {
   "cell_type": "code",
   "execution_count": 10,
   "metadata": {},
   "outputs": [
    {
     "data": {
      "text/plain": [
       "array([[5],\n",
       "       [3],\n",
       "       [5],\n",
       "       ...,\n",
       "       [5],\n",
       "       [5],\n",
       "       [5]], dtype=int64)"
      ]
     },
     "execution_count": 10,
     "metadata": {},
     "output_type": "execute_result"
    }
   ],
   "source": [
    "y_train"
   ]
  },
  {
   "cell_type": "code",
   "execution_count": 11,
   "metadata": {},
   "outputs": [
    {
     "data": {
      "text/plain": [
       "array([[0., 0., 0., 0., 1.],\n",
       "       [0., 0., 1., 0., 0.],\n",
       "       [0., 0., 0., 0., 1.],\n",
       "       ...,\n",
       "       [0., 0., 0., 0., 1.],\n",
       "       [0., 0., 0., 0., 1.],\n",
       "       [0., 0., 0., 0., 1.]])"
      ]
     },
     "execution_count": 11,
     "metadata": {},
     "output_type": "execute_result"
    }
   ],
   "source": [
    "y_train_ohe"
   ]
  },
  {
   "cell_type": "code",
   "execution_count": 12,
   "metadata": {},
   "outputs": [
    {
     "data": {
      "text/plain": [
       "tensor([0.0497, 0.0238, 0.0611, 0.1956, 0.6699], dtype=torch.float64)"
      ]
     },
     "execution_count": 12,
     "metadata": {},
     "output_type": "execute_result"
    }
   ],
   "source": [
    "prob = torch.tensor(y_train_ohe).mean(dim=0)\n",
    "prob"
   ]
  },
  {
   "cell_type": "code",
   "execution_count": 13,
   "metadata": {},
   "outputs": [],
   "source": [
    "# FFN: Linear (1024,6) -> ReLU() -> Linear(6, 6) -> ReLU -> Linear(6, 5)\n",
    "\n",
    "class Multiclass(nn.Module): # https://pytorch.org/docs/stable/generated/torch.nn.Module.html\n",
    "    def __init__(self):\n",
    "        super().__init__() # needed to use nn.Module\n",
    "        self.input = nn.Linear(1024, 6) # input 1024 x 1 column vector\n",
    "        self.act = nn.ReLU() # activation function\n",
    "        self.hidden = nn.Linear(6, 6)\n",
    "        self.output = nn.Linear(6, 5) # output 5 x 1 column vector\n",
    "\n",
    "    def n_steps(self, x, n):\n",
    "        for i in range(n):\n",
    "            x = self.hidden(self.act(x))\n",
    "        return x\n",
    "\n",
    "    def forward(self, x):\n",
    "        x = self.input(x)\n",
    "        x = self.n_steps(x, 30)\n",
    "        x = self.act(x)\n",
    "        x = self.output(x)\n",
    "        return x"
   ]
  },
  {
   "cell_type": "code",
   "execution_count": 14,
   "metadata": {},
   "outputs": [],
   "source": [
    "# loss funtion to penalize unbalanced data\n",
    "\n",
    "def loss_bal(y_batch):\n",
    "    prob = y_batch.mean(dim=0)\n",
    "    expected_value = prob * torch.tensor([1, 2, 3, 4, 5]).sum()\n",
    "    loss = torch.mean((expected_value - 3)**2)\n",
    "\n",
    "    return loss"
   ]
  },
  {
   "cell_type": "code",
   "execution_count": 15,
   "metadata": {},
   "outputs": [],
   "source": [
    "c_entropy = nn.CrossEntropyLoss()"
   ]
  },
  {
   "cell_type": "code",
   "execution_count": 16,
   "metadata": {},
   "outputs": [
    {
     "data": {
      "text/plain": [
       "tensor(13.2223, dtype=torch.float64)"
      ]
     },
     "execution_count": 16,
     "metadata": {},
     "output_type": "execute_result"
    }
   ],
   "source": [
    "loss_bal(torch.tensor(y_train_ohe))"
   ]
  },
  {
   "cell_type": "code",
   "execution_count": 17,
   "metadata": {},
   "outputs": [
    {
     "name": "stderr",
     "output_type": "stream",
     "text": [
      "C:\\Users\\Gil\\AppData\\Local\\Temp\\ipykernel_16444\\4264353234.py:1: UserWarning: Creating a tensor from a list of numpy.ndarrays is extremely slow. Please consider converting the list to a single numpy.ndarray with numpy.array() before converting to a tensor. (Triggered internally at ..\\torch\\csrc\\utils\\tensor_new.cpp:278.)\n",
      "  X_train = torch.tensor(X_train.to_list(), dtype = torch.float32)\n"
     ]
    }
   ],
   "source": [
    "X_train = torch.tensor(X_train.to_list(), dtype = torch.float32)\n",
    "X_val = torch.tensor(X_val.to_list(), dtype = torch.float32)\n",
    "\n",
    "y_train_ohe = torch.tensor(y_train_ohe, dtype = torch.float32)\n",
    "y_val_ohe = torch.tensor(y_val_ohe, dtype = torch.float32)"
   ]
  },
  {
   "cell_type": "code",
   "execution_count": 18,
   "metadata": {},
   "outputs": [
    {
     "data": {
      "text/plain": [
       "(576014,)"
      ]
     },
     "execution_count": 18,
     "metadata": {},
     "output_type": "execute_result"
    }
   ],
   "source": [
    "indices = [[train_index, test_index] for train_index, test_index in kfold.split(X_train, y_train)]\n",
    "indices[0][0].shape"
   ]
  },
  {
   "cell_type": "code",
   "execution_count": 19,
   "metadata": {},
   "outputs": [],
   "source": [
    "# n_epochs = number of epochs (This doesn't need to be too large because in each epoach there are a number of updates)\n",
    "# batch_size: size of each batch = 10\n",
    "# X_tt, y_tt train sets among X_train, y_train\n",
    "# X_ho, y_ho validation sets among X_train, y_train (ho for \"holdout\")\n",
    "\n",
    "def train_model(model, n_epochs, batch_size, X_tt, y_tt, X_ho, y_ho):\n",
    "\n",
    "    optimizer = optim.Adam(model.parameters(), lr = 0.001)\n",
    "\n",
    "    best_acc = - np.inf   # init to negative infinity\n",
    "    best_weights = None\n",
    "\n",
    "    train_loss_hist = []\n",
    "    train_acc_hist = []\n",
    "    test_loss_hist = []\n",
    "    test_acc_hist = []\n",
    "    \n",
    "    for epoch in range(n_epochs):\n",
    "        epoch_loss = []\n",
    "        epoch_acc = []\n",
    "        \n",
    "        # set model in training mode and run through each batch\n",
    "        # batches are paritions of the training set\n",
    "\n",
    "        model.train()\n",
    "        n_batches = len(X_tt) // batch_size # number of batches (per epoch)\n",
    "\n",
    "        with tqdm.trange(n_batches, unit = \"batch\", mininterval=0) as bar: # bar consists of batches \n",
    "            bar.set_description(f\"Epoch {epoch}\")\n",
    "            for i in bar:\n",
    "                # take a batch\n",
    "                start = i * batch_size\n",
    "                X_tt_batch = X_tt[start : start + batch_size]\n",
    "                y_tt_batch = y_tt[start : start + batch_size]\n",
    "\n",
    "                # forward pass\n",
    "                y_tt_pred = model(X_tt_batch)\n",
    "                \n",
    "                loss_fn = nn.CrossEntropyLoss()\n",
    "                loss = loss_fn(y_tt_pred, y_tt_batch) # Loss\n",
    "\n",
    "                # backward pass\n",
    "                optimizer.zero_grad() # set the grads to none\n",
    "                loss.backward()\n",
    "\n",
    "                # update parameters (weight and bias)\n",
    "                optimizer.step()\n",
    "\n",
    "                # compute and store metrics\n",
    "                acc = (torch.argmax(y_tt_batch, 1) == torch.argmax(y_tt_pred, 1)).float().mean()\n",
    "                epoch_loss.append(float(loss))\n",
    "                epoch_acc.append(float(acc))\n",
    "\n",
    "                bar.set_postfix(\n",
    "                    loss = float(loss),\n",
    "                    acc = float(acc)\n",
    "                )\n",
    "                \n",
    "\n",
    "        # set model in evaluation mode and run through the test set\n",
    "        model.eval()\n",
    "        \n",
    "        y_pred = model(X_ho)\n",
    "        ce = c_entropy(y_pred, y_ho) # cross entropy\n",
    "        acc = (torch.argmax(y_ho, 1) == torch.argmax(y_pred, 1)).float().mean()\n",
    "        ce = float(ce)\n",
    "        acc = float(acc)\n",
    "        \n",
    "        train_loss_hist.append(np.mean(epoch_loss))\n",
    "        train_acc_hist.append(np.mean(epoch_acc))\n",
    "        test_loss_hist.append(ce)\n",
    "        test_acc_hist.append(acc)\n",
    "        \n",
    "        if acc > best_acc:\n",
    "            best_acc = acc\n",
    "            best_weights = copy.deepcopy(model.state_dict())\n",
    "            print(f\"Epoch {epoch} validation: Cross-entropy = {ce}, Accuracy = {acc}\")\n",
    "\n",
    "        model.load_state_dict(best_weights)\n",
    "\n",
    "    return [train_loss_hist, train_acc_hist, test_loss_hist, test_acc_hist]"
   ]
  },
  {
   "cell_type": "code",
   "execution_count": 28,
   "metadata": {},
   "outputs": [],
   "source": [
    "model = [Multiclass() for i in range(11)]\n",
    "test_result = []\n",
    "\n",
    "indices = [[train_index, test_index] for train_index, test_index in kfold.split(X_train, y_train)]\n",
    "train_indices = list(map(lambda L : L[0], indices))\n",
    "test_indices = list(map(lambda L : L[1], indices))"
   ]
  },
  {
   "cell_type": "code",
   "execution_count": 29,
   "metadata": {},
   "outputs": [
    {
     "name": "stderr",
     "output_type": "stream",
     "text": [
      "Epoch 0: 100%|██████████| 57601/57601 [04:00<00:00, 239.17batch/s, acc=0.7, loss=0.553]\n"
     ]
    },
    {
     "name": "stdout",
     "output_type": "stream",
     "text": [
      "Epoch 0 validation: Cross-entropy = 0.7044011950492859, Accuracy = 0.7179090976715088\n"
     ]
    },
    {
     "name": "stderr",
     "output_type": "stream",
     "text": [
      "Epoch 1: 100%|██████████| 57601/57601 [03:59<00:00, 240.48batch/s, acc=0.7, loss=0.535]\n"
     ]
    },
    {
     "name": "stdout",
     "output_type": "stream",
     "text": [
      "Epoch 1 validation: Cross-entropy = 0.697449803352356, Accuracy = 0.7198013663291931\n"
     ]
    },
    {
     "name": "stderr",
     "output_type": "stream",
     "text": [
      "Epoch 0: 100%|██████████| 57601/57601 [03:54<00:00, 246.02batch/s, acc=0.9, loss=0.337]\n"
     ]
    },
    {
     "name": "stdout",
     "output_type": "stream",
     "text": [
      "Epoch 0 validation: Cross-entropy = 0.715584397315979, Accuracy = 0.7180132865905762\n"
     ]
    },
    {
     "name": "stderr",
     "output_type": "stream",
     "text": [
      "Epoch 1: 100%|██████████| 57601/57601 [04:00<00:00, 239.38batch/s, acc=0.9, loss=0.328]\n",
      "Epoch 0: 100%|██████████| 57601/57601 [04:03<00:00, 236.11batch/s, acc=0.7, loss=0.564]\n"
     ]
    },
    {
     "name": "stdout",
     "output_type": "stream",
     "text": [
      "Epoch 0 validation: Cross-entropy = 0.6976542472839355, Accuracy = 0.7200444340705872\n"
     ]
    },
    {
     "name": "stderr",
     "output_type": "stream",
     "text": [
      "Epoch 1: 100%|██████████| 57601/57601 [03:59<00:00, 240.80batch/s, acc=0.7, loss=0.564]\n"
     ]
    },
    {
     "name": "stdout",
     "output_type": "stream",
     "text": [
      "Epoch 1 validation: Cross-entropy = 0.7022103071212769, Accuracy = 0.7203916311264038\n"
     ]
    },
    {
     "name": "stderr",
     "output_type": "stream",
     "text": [
      "Epoch 0: 100%|██████████| 57601/57601 [03:58<00:00, 241.48batch/s, acc=0.7, loss=0.586]\n"
     ]
    },
    {
     "name": "stdout",
     "output_type": "stream",
     "text": [
      "Epoch 0 validation: Cross-entropy = 0.7076774835586548, Accuracy = 0.7227005958557129\n"
     ]
    },
    {
     "name": "stderr",
     "output_type": "stream",
     "text": [
      "Epoch 1: 100%|██████████| 57601/57601 [03:59<00:00, 240.91batch/s, acc=0.7, loss=0.552]\n"
     ]
    },
    {
     "name": "stdout",
     "output_type": "stream",
     "text": [
      "Epoch 1 validation: Cross-entropy = 0.7061328291893005, Accuracy = 0.7244887351989746\n"
     ]
    },
    {
     "name": "stderr",
     "output_type": "stream",
     "text": [
      "Epoch 0: 100%|██████████| 57601/57601 [03:48<00:00, 252.43batch/s, acc=0.7, loss=0.587]\n"
     ]
    },
    {
     "name": "stdout",
     "output_type": "stream",
     "text": [
      "Epoch 0 validation: Cross-entropy = 0.7564680576324463, Accuracy = 0.7187771201133728\n"
     ]
    },
    {
     "name": "stderr",
     "output_type": "stream",
     "text": [
      "Epoch 1: 100%|██████████| 57601/57601 [03:42<00:00, 258.48batch/s, acc=0.7, loss=0.556]\n"
     ]
    },
    {
     "name": "stdout",
     "output_type": "stream",
     "text": [
      "Epoch 1 validation: Cross-entropy = 0.7028139233589172, Accuracy = 0.72632896900177\n"
     ]
    },
    {
     "name": "stderr",
     "output_type": "stream",
     "text": [
      "Epoch 0: 100%|██████████| 57601/57601 [03:43<00:00, 257.71batch/s, acc=0.7, loss=0.622]\n"
     ]
    },
    {
     "name": "stdout",
     "output_type": "stream",
     "text": [
      "Epoch 0 validation: Cross-entropy = 0.732909619808197, Accuracy = 0.7222617864608765\n"
     ]
    },
    {
     "name": "stderr",
     "output_type": "stream",
     "text": [
      "Epoch 1: 100%|██████████| 57601/57601 [03:49<00:00, 251.46batch/s, acc=0.7, loss=0.579]\n"
     ]
    },
    {
     "name": "stdout",
     "output_type": "stream",
     "text": [
      "Epoch 1 validation: Cross-entropy = 0.7339960336685181, Accuracy = 0.7222791314125061\n"
     ]
    },
    {
     "name": "stderr",
     "output_type": "stream",
     "text": [
      "Epoch 0: 100%|██████████| 57601/57601 [03:55<00:00, 244.07batch/s, acc=0.8, loss=0.548]\n"
     ]
    },
    {
     "name": "stdout",
     "output_type": "stream",
     "text": [
      "Epoch 0 validation: Cross-entropy = 0.6913246512413025, Accuracy = 0.7290672063827515\n"
     ]
    },
    {
     "name": "stderr",
     "output_type": "stream",
     "text": [
      "Epoch 1: 100%|██████████| 57601/57601 [04:05<00:00, 234.67batch/s, acc=0.8, loss=0.555]\n"
     ]
    },
    {
     "name": "stdout",
     "output_type": "stream",
     "text": [
      "Epoch 1 validation: Cross-entropy = 0.6831319332122803, Accuracy = 0.7296574711799622\n"
     ]
    },
    {
     "name": "stderr",
     "output_type": "stream",
     "text": [
      "Epoch 0: 100%|██████████| 57601/57601 [03:58<00:00, 241.93batch/s, acc=0.7, loss=0.535]\n"
     ]
    },
    {
     "name": "stdout",
     "output_type": "stream",
     "text": [
      "Epoch 0 validation: Cross-entropy = 0.6711207032203674, Accuracy = 0.7297442555427551\n"
     ]
    },
    {
     "name": "stderr",
     "output_type": "stream",
     "text": [
      "Epoch 1: 100%|██████████| 57601/57601 [04:05<00:00, 234.77batch/s, acc=0.8, loss=0.498]\n"
     ]
    },
    {
     "name": "stdout",
     "output_type": "stream",
     "text": [
      "Epoch 1 validation: Cross-entropy = 0.6661052703857422, Accuracy = 0.7329907417297363\n"
     ]
    },
    {
     "name": "stderr",
     "output_type": "stream",
     "text": [
      "Epoch 0: 100%|██████████| 57601/57601 [04:05<00:00, 234.67batch/s, acc=0.8, loss=0.363]\n"
     ]
    },
    {
     "name": "stdout",
     "output_type": "stream",
     "text": [
      "Epoch 0 validation: Cross-entropy = 0.6800775527954102, Accuracy = 0.7302477359771729\n"
     ]
    },
    {
     "name": "stderr",
     "output_type": "stream",
     "text": [
      "Epoch 1: 100%|██████████| 57601/57601 [04:03<00:00, 236.46batch/s, acc=0.9, loss=0.359]\n"
     ]
    },
    {
     "name": "stdout",
     "output_type": "stream",
     "text": [
      "Epoch 1 validation: Cross-entropy = 0.6729816198348999, Accuracy = 0.7337719798088074\n"
     ]
    },
    {
     "name": "stderr",
     "output_type": "stream",
     "text": [
      "Epoch 0: 100%|██████████| 57601/57601 [04:05<00:00, 234.64batch/s, acc=0.8, loss=0.493]\n"
     ]
    },
    {
     "name": "stdout",
     "output_type": "stream",
     "text": [
      "Epoch 0 validation: Cross-entropy = 0.6811541318893433, Accuracy = 0.7302998304367065\n"
     ]
    },
    {
     "name": "stderr",
     "output_type": "stream",
     "text": [
      "Epoch 1: 100%|██████████| 57601/57601 [04:05<00:00, 234.62batch/s, acc=0.8, loss=0.473]\n"
     ]
    },
    {
     "name": "stdout",
     "output_type": "stream",
     "text": [
      "Epoch 1 validation: Cross-entropy = 0.671455442905426, Accuracy = 0.7348309755325317\n"
     ]
    },
    {
     "name": "stderr",
     "output_type": "stream",
     "text": [
      "Epoch 0: 100%|██████████| 57601/57601 [03:59<00:00, 240.88batch/s, acc=0.8, loss=0.507]\n"
     ]
    },
    {
     "name": "stdout",
     "output_type": "stream",
     "text": [
      "Epoch 0 validation: Cross-entropy = 0.6714480519294739, Accuracy = 0.7370531558990479\n"
     ]
    },
    {
     "name": "stderr",
     "output_type": "stream",
     "text": [
      "Epoch 1: 100%|██████████| 57601/57601 [04:09<00:00, 230.53batch/s, acc=0.8, loss=0.5]  \n"
     ]
    }
   ],
   "source": [
    "for i in range(11):\n",
    "    X_tt = X_train[train_indices[i]]\n",
    "    y_tt = y_train_ohe[train_indices[i]]\n",
    "\n",
    "    X_ho = X_train[test_indices[i]]\n",
    "    y_ho = y_train_ohe[test_indices[i]]\n",
    "\n",
    "    test_result.append(train_model(model[0], 2, 10, X_tt, y_tt, X_ho, y_ho))\n",
    "    \n",
    "    # Recall: train_model(model, n_epochs, batch_size, X_tt, y_tt, X_ho, y_ho)\n"
   ]
  },
  {
   "cell_type": "code",
   "execution_count": 34,
   "metadata": {},
   "outputs": [
    {
     "data": {
      "text/plain": [
       "tensor(0.6743, grad_fn=<DivBackward1>)"
      ]
     },
     "execution_count": 34,
     "metadata": {},
     "output_type": "execute_result"
    }
   ],
   "source": [
    "c_entropy(model[0](X_val), y_val_ohe) # Cross entropy on validation set"
   ]
  },
  {
   "cell_type": "code",
   "execution_count": 35,
   "metadata": {},
   "outputs": [
    {
     "data": {
      "text/plain": [
       "tensor(0.7355)"
      ]
     },
     "execution_count": 35,
     "metadata": {},
     "output_type": "execute_result"
    }
   ],
   "source": [
    "(y_val_ohe.argmax(dim=1) == model[0](X_val).argmax(dim=1)).float().mean() # Accuracy on validation set"
   ]
  },
  {
   "cell_type": "code",
   "execution_count": 32,
   "metadata": {},
   "outputs": [
    {
     "data": {
      "image/png": "[encoded data removed]",
      "text/plain": [
       "<Figure size 640x480 with 2 Axes>"
      ]
     },
     "metadata": {},
     "output_type": "display_data"
    }
   ],
   "source": [
    "ConfusionMatrixDisplay.from_predictions(y_val_ohe.argmax(dim=1), model[0](X_val).argmax(dim=1), normalize = 'true')\n",
    "plt.show()"
   ]
  },
  {
   "cell_type": "code",
   "execution_count": 37,
   "metadata": {},
   "outputs": [],
   "source": [
    "rus = RandomUnderSampler(random_state = 123)"
   ]
  },
  {
   "cell_type": "code",
   "execution_count": 41,
   "metadata": {},
   "outputs": [
    {
     "name": "stderr",
     "output_type": "stream",
     "text": [
      "Epoch 0: 100%|██████████| 6021/6021 [00:25<00:00, 234.01batch/s, acc=0.5, loss=0.967]\n"
     ]
    },
    {
     "name": "stdout",
     "output_type": "stream",
     "text": [
      "Epoch 0 validation: Cross-entropy = 1.049569010734558, Accuracy = 0.5403574109077454\n"
     ]
    },
    {
     "name": "stderr",
     "output_type": "stream",
     "text": [
      "Epoch 1: 100%|██████████| 6021/6021 [00:25<00:00, 234.84batch/s, acc=0.3, loss=1.04] \n",
      "Epoch 0: 100%|██████████| 6021/6021 [00:25<00:00, 234.06batch/s, acc=0.8, loss=0.806]\n"
     ]
    },
    {
     "name": "stdout",
     "output_type": "stream",
     "text": [
      "Epoch 0 validation: Cross-entropy = 1.0458955764770508, Accuracy = 0.5393609404563904\n"
     ]
    },
    {
     "name": "stderr",
     "output_type": "stream",
     "text": [
      "Epoch 1: 100%|██████████| 6021/6021 [00:25<00:00, 233.62batch/s, acc=0.8, loss=0.775]\n",
      "Epoch 0: 100%|██████████| 6021/6021 [00:26<00:00, 229.92batch/s, acc=0.6, loss=1.02] \n"
     ]
    },
    {
     "name": "stdout",
     "output_type": "stream",
     "text": [
      "Epoch 0 validation: Cross-entropy = 1.0340707302093506, Accuracy = 0.5415531992912292\n"
     ]
    },
    {
     "name": "stderr",
     "output_type": "stream",
     "text": [
      "Epoch 1: 100%|██████████| 6021/6021 [00:25<00:00, 233.17batch/s, acc=0.6, loss=0.982]\n"
     ]
    },
    {
     "name": "stdout",
     "output_type": "stream",
     "text": [
      "Epoch 1 validation: Cross-entropy = 1.0355058908462524, Accuracy = 0.5428818464279175\n"
     ]
    }
   ],
   "source": [
    "test_result_rus = []\n",
    "\n",
    "for i in range(3):\n",
    "    X_rus, y_rus = rus.fit_resample(X_train, y_train)\n",
    "    X_rus_tt, X_rus_ho, y_rus_tt, y_rus_ho = train_test_split(X_rus, y_rus, test_size = 0.2)\n",
    "        \n",
    "    y_rus_tt = y_rus_tt.reshape(-1,1)\n",
    "    y_rus_ho = y_rus_ho.reshape(-1,1)\n",
    "\n",
    "    ohe_y_rus_tt = OneHotEncoder(handle_unknown='ignore', sparse_output=False).fit(y_rus_tt)\n",
    "    y_rus_tt_ohe = ohe_y_rus_tt.transform(y_rus_tt)\n",
    "\n",
    "    ohe_y_rus_ho = OneHotEncoder(handle_unknown='ignore', sparse_output=False).fit(y_rus_ho)\n",
    "    y_rus_ho_ohe = ohe_y_rus_ho.transform(y_rus_ho)\n",
    "\n",
    "    X_rus_tt = torch.tensor(X_rus_tt.tolist(), dtype = torch.float32)\n",
    "    X_rus_ho = torch.tensor(X_rus_ho.tolist(), dtype = torch.float32)\n",
    "\n",
    "    y_rus_tt_ohe = torch.tensor(y_rus_tt_ohe, dtype = torch.float32)\n",
    "    y_rus_ho_ohe = torch.tensor(y_rus_ho_ohe, dtype = torch.float32)\n",
    "\n",
    "    test_result_rus.append(train_model(model[0], 2, 10, X_rus_tt, y_rus_tt_ohe, X_rus_ho, y_rus_ho_ohe))"
   ]
  },
  {
   "cell_type": "code",
   "execution_count": 42,
   "metadata": {},
   "outputs": [
    {
     "data": {
      "text/plain": [
       "tensor(0.8956, grad_fn=<DivBackward1>)"
      ]
     },
     "execution_count": 42,
     "metadata": {},
     "output_type": "execute_result"
    }
   ],
   "source": [
    "c_entropy(model[0](X_val), y_val_ohe) # Cross entropy on validation set"
   ]
  },
  {
   "cell_type": "code",
   "execution_count": 43,
   "metadata": {},
   "outputs": [
    {
     "data": {
      "text/plain": [
       "tensor(0.6279)"
      ]
     },
     "execution_count": 43,
     "metadata": {},
     "output_type": "execute_result"
    }
   ],
   "source": [
    "(y_val_ohe.argmax(dim=1) == model[0](X_val).argmax(dim=1)).float().mean() # Accuracy on validation set"
   ]
  },
  {
   "cell_type": "code",
   "execution_count": 44,
   "metadata": {},
   "outputs": [
    {
     "data": {
      "image/png": "[encoded data removed]",
      "text/plain": [
       "<Figure size 640x480 with 2 Axes>"
      ]
     },
     "metadata": {},
     "output_type": "display_data"
    }
   ],
   "source": [
    "ConfusionMatrixDisplay.from_predictions(y_val_ohe.argmax(dim=1), model[0](X_val).argmax(dim=1), normalize = 'true')\n",
    "plt.show()"
   ]
  }
 ],
 "metadata": {
  "kernelspec": {
   "display_name": "Python 3",
   "language": "python",
   "name": "python3"
  },
  "language_info": {
   "codemirror_mode": {
    "name": "ipython",
    "version": 3
   },
   "file_extension": ".py",
   "mimetype": "text/x-python",
   "name": "python",
   "nbconvert_exporter": "python",
   "pygments_lexer": "ipython3",
   "version": "3.12.1"
  }
 },
 "nbformat": 4,
 "nbformat_minor": 2
}
